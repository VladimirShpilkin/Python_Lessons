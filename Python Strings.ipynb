{
 "cells": [
  {
   "cell_type": "code",
   "execution_count": 6,
   "metadata": {},
   "outputs": [
    {
     "name": "stdout",
     "output_type": "stream",
     "text": [
      "каждый красный\n",
      "охотник оранжевый\n",
      "желает жёлтый\n",
      "знать зелёный\n",
      "где голубой\n",
      "сидит синий\n",
      "фазан фиолетовый\n"
     ]
    }
   ],
   "source": [
    "rainbow_dict = {'каждый': 'красный', \n",
    "                'охотник': 'оранжевый', \n",
    "                'желает': 'жёлтый', \n",
    "                'знать': 'зелёный', \n",
    "                'где': 'голубой', \n",
    "                'сидит': 'синий', \n",
    "                'фазан': 'фиолетовый'}\n",
    "\n",
    "for x,y in rainbow_dict.items():\n",
    "    print(x,y)"
   ]
  },
  {
   "cell_type": "code",
   "execution_count": 8,
   "metadata": {},
   "outputs": [
    {
     "name": "stdout",
     "output_type": "stream",
     "text": [
      "Вы - самый крутой студент в SkillFactory"
     ]
    }
   ],
   "source": [
    "string = 'Вы - самый крутой студент в SkillFactory'\n",
    "for letter in string:\n",
    "    print(letter, end = '')"
   ]
  },
  {
   "cell_type": "code",
   "execution_count": 26,
   "metadata": {},
   "outputs": [
    {
     "name": "stdout",
     "output_type": "stream",
     "text": [
      "Программисты\n"
     ]
    }
   ],
   "source": [
    "proverb = 'Программисты - это устройства, преобразующие кофеин в код.'.split()\n",
    "print(proverb[0])"
   ]
  },
  {
   "cell_type": "code",
   "execution_count": 1,
   "metadata": {},
   "outputs": [
    {
     "name": "stdout",
     "output_type": "stream",
     "text": [
      "Программисты\n"
     ]
    }
   ],
   "source": [
    "proverb = 'Программисты - это устройства, преобразующие кофеин в код.'\n",
    "result=proverb.split()[0]\n",
    "print(proverb.split()[0])"
   ]
  },
  {
   "cell_type": "code",
   "execution_count": 29,
   "metadata": {},
   "outputs": [
    {
     "name": "stdout",
     "output_type": "stream",
     "text": [
      "Программисты\n",
      "Программисты\n"
     ]
    }
   ],
   "source": [
    "proverb = 'Программисты - это устройства, преобразующие кофеин в код.'\n",
    "result = proverb.split()\n",
    "print(result[0])\n",
    "print(proverb.split()[0])"
   ]
  },
  {
   "cell_type": "code",
   "execution_count": 131,
   "metadata": {},
   "outputs": [
    {
     "name": "stdout",
     "output_type": "stream",
     "text": [
      "кофе\n"
     ]
    }
   ],
   "source": [
    "proverb = 'Программисты - это устройства, преобразующие кофеин в код.'\n",
    "x = len(proverb)\n",
    "print(proverb[-13:-9])"
   ]
  },
  {
   "cell_type": "code",
   "execution_count": 147,
   "metadata": {},
   "outputs": [
    {
     "name": "stdout",
     "output_type": "stream",
     "text": [
      "устройство\n"
     ]
    }
   ],
   "source": [
    "proverb = 'Программисты - это устройства, преобразующие кофеин в код.'\n",
    "print(proverb[19:28]+'о')"
   ]
  },
  {
   "cell_type": "code",
   "execution_count": 149,
   "metadata": {},
   "outputs": [
    {
     "name": "stdout",
     "output_type": "stream",
     "text": [
      "устройств о\n"
     ]
    }
   ],
   "source": [
    "proverb = 'Программисты - это устройства, преобразующие кофеин в код.'\n",
    "print(proverb[19:28],'о')"
   ]
  },
  {
   "cell_type": "code",
   "execution_count": 166,
   "metadata": {},
   "outputs": [
    {
     "name": "stdout",
     "output_type": "stream",
     "text": [
      "устройств\n"
     ]
    }
   ],
   "source": [
    "proverb = 'Программисты - это устройства, преобразующие кофеин в код.'\n",
    "print(proverb.split()[3][:-2])"
   ]
  },
  {
   "cell_type": "code",
   "execution_count": 167,
   "metadata": {},
   "outputs": [
    {
     "name": "stdout",
     "output_type": "stream",
     "text": [
      "устройство\n"
     ]
    }
   ],
   "source": [
    "proverb = 'Программисты - это устройства, преобразующие кофеин в код.'\n",
    "result=proverb.split()[3][:-2]+'о'\n",
    "print(result)"
   ]
  },
  {
   "cell_type": "code",
   "execution_count": 219,
   "metadata": {},
   "outputs": [
    {
     "name": "stdout",
     "output_type": "stream",
     "text": [
      "02468101214161820222426283032343638404244464850525456"
     ]
    }
   ],
   "source": [
    "proverb = 'Программисты - это устройства, преобразующие кофеин в код.'\n",
    "result_string=''\n",
    "for x in range(len(proverb)):\n",
    "    if int(x)%2==0:\n",
    "        print(x, end = '')"
   ]
  },
  {
   "cell_type": "code",
   "execution_count": 186,
   "metadata": {},
   "outputs": [
    {
     "name": "stdout",
     "output_type": "stream",
     "text": [
      "Пормит  т срйта рорзюи оенвкд\n"
     ]
    }
   ],
   "source": [
    "proverb = 'Программисты - это устройства, преобразующие кофеин в код.'\n",
    "proverb_odd=proverb[::2]\n",
    "proverb_even=proverb[1::2]\n",
    "x = proverb_even.replace(proverb_even, proverb_odd)\n",
    "print(x)"
   ]
  },
  {
   "cell_type": "code",
   "execution_count": 181,
   "metadata": {},
   "outputs": [
    {
     "name": "stdout",
     "output_type": "stream",
     "text": [
      ".ррггааммссыы--ээооууттооссвв,,ппееббаауущщееккффии    оо."
     ]
    }
   ],
   "source": [
    "proverb = 'Программисты - это устройства, преобразующие кофеин в код.'\n",
    "odd = proverb[::2]\n",
    "even=proverb[1::2]\n",
    "result_string = ''\n",
    "index = 0\n",
    "for x in proverb:\n",
    "    if (index % 2 != 0):\n",
    "      s = result_string.join(x)\n",
    "    index +=1\n",
    "    print(s[::2],end='')\n",
    "    \n",
    "\n",
    "        \n",
    "        "
   ]
  },
  {
   "cell_type": "code",
   "execution_count": 185,
   "metadata": {},
   "outputs": [
    {
     "name": "stdout",
     "output_type": "stream",
     "text": [
      "Пормит  т срйта рорзюи оенвкд\n"
     ]
    }
   ],
   "source": [
    "proverb = 'Программисты - это устройства, преобразующие кофеин в код.'\n",
    "odd = proverb[::2]\n",
    "even=proverb[1::2]\n",
    "index = 0\n",
    "\n",
    "def proverb_new(str):\n",
    "    result_string = ''\n",
    "    for x in range(len(proverb)):\n",
    "        if x % 2==0:\n",
    "            result_string=result_string+str[x]\n",
    "    return result_string\n",
    "print(proverb_new(proverb))\n",
    "        "
   ]
  },
  {
   "cell_type": "code",
   "execution_count": 184,
   "metadata": {},
   "outputs": [
    {
     "name": "stdout",
     "output_type": "stream",
     "text": [
      "-1\n"
     ]
    }
   ],
   "source": [
    "proverb = 'Программисты - это устройства, преобразующие кофеин в код.'\n",
    "odd = proverb[::2]\n",
    "even=proverb[1::2]\n",
    "index = 0\n"
   ]
  },
  {
   "cell_type": "code",
   "execution_count": 188,
   "metadata": {},
   "outputs": [
    {
     "name": "stdout",
     "output_type": "stream",
     "text": [
      "Слово \"программирование\" - это не палиндром\n"
     ]
    }
   ],
   "source": [
    "basic_word = 'программирование'\n",
    "inverted_word = basic_word[::-1]\n",
    "if basic_word == inverted_word:\n",
    "    print('Слово \"{}\" является палиндромом'.format(basic_word))\n",
    "else:\n",
    "    print('Слово \"{}\" - это не палиндром'.format(basic_word))\n"
   ]
  },
  {
   "cell_type": "code",
   "execution_count": 202,
   "metadata": {},
   "outputs": [
    {
     "name": "stdout",
     "output_type": "stream",
     "text": [
      "1\n",
      "1\n",
      "0\n",
      "1\n",
      "0\n"
     ]
    }
   ],
   "source": [
    "proverbs = ['Без труда не вытянешь и рыбку из пруда', \n",
    "            'Терпение и труд всё перетрут', \n",
    "            'Работа не волк - в лес не убежит', \n",
    "            'Чем труднее дело, тем выше честь', \n",
    "            'Учиться, учиться и учиться!']\n",
    "\n",
    "counter = 0\n",
    "for proverb in proverbs:\n",
    "    if 'труд' in proverb:\n",
    "        counter += 1\n",
    "    counter= proverb.count('труд')\n",
    "    print(counter)"
   ]
  },
  {
   "cell_type": "code",
   "execution_count": 204,
   "metadata": {},
   "outputs": [
    {
     "name": "stdout",
     "output_type": "stream",
     "text": [
      "4\n"
     ]
    }
   ],
   "source": [
    "tongue_twister = 'Ехал Грека через реку, видит Грека - в реке рак. Сунул Грека руку в реку, рак за руку Греку - цап!'\n",
    "counter = tongue_twister.count('Грек')\n",
    "print(counter)"
   ]
  },
  {
   "cell_type": "code",
   "execution_count": 1,
   "metadata": {},
   "outputs": [
    {
     "name": "stdout",
     "output_type": "stream",
     "text": [
      "написанная\n",
      "это\n"
     ]
    }
   ],
   "source": [
    "proverb = 'Хорошо написанная программа - это программа, написанная 2 раза'\n",
    "\n",
    "while True:\n",
    "    index = proverb.find('программа')\n",
    "    if index == -1:\n",
    "        break\n",
    "    secret = proverb[:index].split()[-1]\n",
    "    proverb = proverb[index+9:] \n",
    "    print(secret)"
   ]
  },
  {
   "cell_type": "code",
   "execution_count": 14,
   "metadata": {},
   "outputs": [
    {
     "name": "stdout",
     "output_type": "stream",
     "text": [
      "рограмма - это программа, написанная 2 раза\n",
      "рограмма, написанная 2 раза\n"
     ]
    }
   ],
   "source": [
    "proverb = 'Хорошо написанная программа - это программа, написанная 2 раза'\n",
    "\n",
    "while True:\n",
    "    index = proverb.find('программа')\n",
    "    if index == -1:\n",
    "        break\n",
    "    secret = proverb[:index].split()[-1]\n",
    "    proverb = proverb[index+1:]\n",
    "    print(proverb)"
   ]
  },
  {
   "cell_type": "code",
   "execution_count": 1,
   "metadata": {},
   "outputs": [
    {
     "name": "stdout",
     "output_type": "stream",
     "text": [
      "skillfactory.ru\n",
      "skillfactory.ru\n"
     ]
    }
   ],
   "source": [
    "email = 'VeryBigBoss@skillfactory.ru'\n",
    "domain = email.find('@')\n",
    "pos = email[domain+1:]\n",
    "print(pos)\n",
    "print(email[email.find('@')+1:])"
   ]
  },
  {
   "cell_type": "code",
   "execution_count": 53,
   "metadata": {},
   "outputs": [
    {
     "name": "stdout",
     "output_type": "stream",
     "text": [
      "14\n"
     ]
    }
   ],
   "source": [
    "number = 56.257\n",
    "new_number = []\n",
    "for x in str(number):\n",
    "    new_number += x\n",
    "    b = (new_number[3:])\n",
    "test_list = [int(i) for i in b]\n",
    "print(sum(test_list))\n",
    "\n",
    "\n",
    "\n",
    "\n"
   ]
  },
  {
   "cell_type": "code",
   "execution_count": 25,
   "metadata": {},
   "outputs": [
    {
     "name": "stdout",
     "output_type": "stream",
     "text": [
      "{0: 'vasya@mail.ru', 1: 'akakiy@yandex.ru', 2: 'spyderman@yandex.ru', 3: 'XFiles@gmail.com', 4: 'hello@mail.ru', 5: 'noname@gmail.com', 6: 'DonaldTrump@mail.ru', 7: 'a768#af@yandex.ru', 8: 'Ivan_Ivanovich@yandex.ru', 9: 'thebestmail@yandex.ru'}\n"
     ]
    }
   ],
   "source": [
    "emails_list = ['vasya@mail.ru', \n",
    "          'akakiy@yandex.ru', \n",
    "          'spyderman@yandex.ru', \n",
    "          'XFiles@gmail.com', \n",
    "          'hello@mail.ru', \n",
    "          'noname@gmail.com', \n",
    "          'DonaldTrump@mail.ru', \n",
    "          'a768#af@yandex.ru', \n",
    "          'Ivan_Ivanovich@yandex.ru', \n",
    "          'thebestmail@yandex.ru']\n",
    "\n",
    "print({i : emails_list[i] for i in range(0,len(emails_list))})"
   ]
  },
  {
   "cell_type": "code",
   "execution_count": 71,
   "metadata": {},
   "outputs": [
    {
     "name": "stdout",
     "output_type": "stream",
     "text": [
      "Интернет-открытки - это ЛУЧШЕЕ средство для мужчины сказать женщине о своих чувствах прямо в глаза.\n",
      "Интернет-открытки - это лучшее средство для мужчины сказать женщине о своих чувствах прямо в глаза.\n"
     ]
    }
   ],
   "source": [
    "string = 'Интернет-открытки - это лучшее средство для мужчины сказать женщине о своих чувствах прямо в глаза.'\n",
    "secret = string[24:30]\n",
    "new_string = string.replace(secret.lower(), secret.upper()) \n",
    "print(new_string)\n",
    "print(string)"
   ]
  },
  {
   "cell_type": "code",
   "execution_count": 3,
   "metadata": {},
   "outputs": [
    {
     "name": "stdout",
     "output_type": "stream",
     "text": [
      "Какое ваше любимое блюдо: овсянка\n"
     ]
    }
   ],
   "source": [
    "food = input('Какое ваше любимое блюдо: ')\n",
    "if food.lower() == 'ОВСЯНКА': \n",
    "        print('Да Вы гурман!')"
   ]
  },
  {
   "cell_type": "code",
   "execution_count": 1,
   "metadata": {},
   "outputs": [
    {
     "name": "stdout",
     "output_type": "stream",
     "text": [
      "Dick\n"
     ]
    }
   ],
   "source": [
    "string = 'dick'\n",
    "string = string.replace(string[0].lower(), string[0].upper())\n",
    "print(string)"
   ]
  },
  {
   "cell_type": "code",
   "execution_count": 23,
   "metadata": {},
   "outputs": [
    {
     "name": "stdout",
     "output_type": "stream",
     "text": [
      "{0: 'Т', 1: 'я', 2: 'ж', 3: 'ё', 4: 'л', 5: 'а', 6: 'я', 7: ' ', 8: 'и', 9: 'н', 10: 'т', 11: 'е', 12: 'р', 13: 'н', 14: 'е', 15: 'т', 16: '-', 17: 'з', 18: 'а', 19: 'в', 20: 'и', 21: 'с', 22: 'и', 23: 'м', 24: 'о', 25: 'с', 26: 'т', 27: 'ь', 28: ' ', 29: '-', 30: ' ', 31: 'э', 32: 'т', 33: 'о', 34: ' ', 35: 'к', 36: 'о', 37: 'г', 38: 'д', 39: 'а', 40: ' ', 41: 'т', 42: 'ы', 43: ' ', 44: 'в', 45: 'ы', 46: 'х', 47: 'о', 48: 'д', 49: 'и', 50: 'ш', 51: 'ь', 52: ' ', 53: 'и', 54: 'з', 55: ' ', 56: 'и', 57: 'н', 58: 'т', 59: 'е', 60: 'р', 61: 'н', 62: 'е', 63: 'т', 64: 'а', 65: ',', 66: ' ', 67: 'а', 68: ' ', 69: 'о', 70: 'н', 71: ' ', 72: 'и', 73: 'з', 74: ' ', 75: 'т', 76: 'е', 77: 'б', 78: 'я', 79: ' ', 80: 'н', 81: 'е', 82: 'т', 83: '.'}\n"
     ]
    }
   ],
   "source": [
    "string = 'Тяжёлая интернет-зависимость - это когда ты выходишь из интернета, а он из тебя нет.'\n",
    "new_string=[]\n",
    "for x in string:\n",
    "    new_string.append(str(x.replace('-',':)').replace(',',':)')))\n",
    "print({i:string[i] for i in range(0,len(string))})"
   ]
  },
  {
   "cell_type": "code",
   "execution_count": 36,
   "metadata": {},
   "outputs": [
    {
     "name": "stdout",
     "output_type": "stream",
     "text": [
      "Тяжёлая интернет:)зависимость :) это когда ты выходишь из интернета:)а он из тебя нет:)\n"
     ]
    }
   ],
   "source": [
    "string = 'Тяжёлая интернет-зависимость - это когда ты выходишь из интернета, а он из тебя нет.'\n",
    "print(string.replace('-', ':)').replace('.',':)').replace(', ',':)').replace(' - ',':)').replace('?',':)')i.replace)"
   ]
  },
  {
   "cell_type": "code",
   "execution_count": 1,
   "metadata": {},
   "outputs": [
    {
     "name": "stdout",
     "output_type": "stream",
     "text": [
      "Тяжёлая интернет:)зависимость :) это когда ты выходишь из интернета:)а он из тебя нет:)\n"
     ]
    }
   ],
   "source": [
    "string = 'Тяжёлая интернет-зависимость - это когда ты выходишь из интернета, а он из тебя нет.'\n",
    "new_string=string.replace('-', ':)').replace('.',':)').replace(', ',':)').replace(' - ',':)'0)\n",
    "print(new_string)"
   ]
  },
  {
   "cell_type": "code",
   "execution_count": 7,
   "metadata": {},
   "outputs": [
    {
     "name": "stdout",
     "output_type": "stream",
     "text": [
      "Тяжёлая интернет:)зависимость :) это когда ты выходишь из интернета:) а он из тебя нет:)\n"
     ]
    }
   ],
   "source": [
    "string = 'Тяжёлая интернет-зависимость - это когда ты выходишь из интернета, а он из тебя нет.'\n",
    "for i in string:\n",
    "    if i == '.' or  i =='!' or  i =='?' or  i ==',' or  i =='-':\n",
    "        string=string.replace(i,':)')\n",
    "print(string)"
   ]
  },
  {
   "cell_type": "code",
   "execution_count": 25,
   "metadata": {},
   "outputs": [
    {
     "name": "stdout",
     "output_type": "stream",
     "text": [
      "{0: 'С', 1: 'е', 2: 'в', 3: 'а', 4: 'с', 5: 'т', 6: 'и', 7: 'а', 8: 'н'}\n"
     ]
    }
   ],
   "source": [
    "vowels =['а','о','и','е','ё','э', 'ы','у','ю','я']\n",
    "consonants = ['б','в','г','д','ж','з','й','к','л','м','н','п','р','с','т','ф','х','ц','ч','ш','щ']\n",
    "name = 'Севастиан'\n",
    "name_new =''\n",
    "counter=0\n",
    "for x in name:\n",
    "    if x.lower() in vowels or x.lower() in consonants:\n",
    "        name_new.join(x)\n",
    "print({x:name[x] for x in range(0,len(name))})\n",
    "    "
   ]
  },
  {
   "cell_type": "code",
   "execution_count": 4,
   "metadata": {},
   "outputs": [
    {
     "name": "stdout",
     "output_type": "stream",
     "text": [
      "С-согласная буква\n",
      "е - гласная буква\n",
      "в-согласная буква\n",
      "а - гласная буква\n",
      "с-согласная буква\n",
      "т-согласная буква\n",
      "и - гласная буква\n",
      "а - гласная буква\n",
      "н-согласная буква\n"
     ]
    }
   ],
   "source": [
    "vowels =['а','о','и','е','ё','э', 'ы','у','ю','я']\n",
    "consonants = ['б','в','г','д','ж','з','й','к','л','м','н','п','р','с','т','ф','х','ц','ч','ш','щ']\n",
    "\n",
    "name = 'Севастиан'\n",
    "for x in name:\n",
    "    if x in vowels:\n",
    "        print(\"{} - гласная буква\".format(x))\n",
    "    elif x.lower() in consonants:\n",
    "        print(\"{}-согласная буква\".format(x))"
   ]
  },
  {
   "cell_type": "code",
   "execution_count": 6,
   "metadata": {},
   "outputs": [
    {
     "name": "stdout",
     "output_type": "stream",
     "text": [
      "С - согласная буква\n",
      "е - гласная буква\n",
      "в - согласная буква\n",
      "а - гласная буква\n",
      "с - согласная буква\n",
      "т - согласная буква\n",
      "и - гласная буква\n",
      "а - гласная буква\n",
      "н - согласная буква\n"
     ]
    }
   ],
   "source": [
    "vowels =['а','о','и','е','ё','э', 'ы','у','ю','я']\n",
    "\n",
    "name = 'Севастиан'\n",
    "for x in name:\n",
    "    if x in vowels:\n",
    "        print(\"{} - гласная буква\".format(x))\n",
    "    else:\n",
    "        print(\"{} - согласная буква\".format(x))"
   ]
  },
  {
   "cell_type": "code",
   "execution_count": 1,
   "metadata": {},
   "outputs": [
    {
     "name": "stdout",
     "output_type": "stream",
     "text": [
      "Введите свое имя: Вова\n",
      "В - согласная буква\n",
      "о - согласная буква\n",
      "в - согласная буква\n",
      "а - согласная буква\n"
     ]
    }
   ],
   "source": [
    "vowels =['а','о','и','е','ё','э', 'ы','у','ю','я']\n",
    "name = str(input(\"Введите свое имя: \"))\n",
    "for x in name:\n",
    "    if x.lower in vowels:\n",
    "        print(\"{} - гласная буква\".format(x))\n",
    "    else:\n",
    "        print(\"{} - согласная буква\".format(x))"
   ]
  }
 ],
 "metadata": {
  "kernelspec": {
   "display_name": "Python 3",
   "language": "python",
   "name": "python3"
  },
  "language_info": {
   "codemirror_mode": {
    "name": "ipython",
    "version": 3
   },
   "file_extension": ".py",
   "mimetype": "text/x-python",
   "name": "python",
   "nbconvert_exporter": "python",
   "pygments_lexer": "ipython3",
   "version": "3.7.6"
  }
 },
 "nbformat": 4,
 "nbformat_minor": 2
}
