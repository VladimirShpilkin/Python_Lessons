{
 "cells": [
  {
   "cell_type": "code",
   "execution_count": 2,
   "metadata": {},
   "outputs": [],
   "source": [
    "import csv\n",
    "f=open(r'C:\\Users\\shpilkvl\\Anaconda3\\CSV\\electronic-card-transactions-march-2020-csv-tables.csv')\n",
    "data = csv.reader(f)\n",
    "for x in data:\n",
    "    print"
   ]
  },
  {
   "cell_type": "code",
   "execution_count": 3,
   "metadata": {},
   "outputs": [],
   "source": [
    "a = open(r'C:\\Users\\shpilkvl\\Anaconda3\\CSV\\StudentsPerformance.xls')\n",
    "data = csv.reader(a)\n",
    "for x in data:\n",
    "    print"
   ]
  },
  {
   "cell_type": "code",
   "execution_count": 47,
   "metadata": {},
   "outputs": [
    {
     "name": "stdout",
     "output_type": "stream",
     "text": [
      "Всего мальчиков 482, а девочек 518\n",
      "482\n",
      "518\n"
     ]
    }
   ],
   "source": [
    "a = open(r'C:\\Users\\shpilkvl\\Anaconda3\\CSV\\StudentsPerformance.xls')\n",
    "males = 0\n",
    "females = 0\n",
    "for x in a:\n",
    "    info = x.split(',')\n",
    "    gender = info[0][1:-1]\n",
    "    if gender == 'male':\n",
    "        males+=1\n",
    "    elif gender == 'female':\n",
    "        females+=1\n",
    "print('Всего мальчиков {}, а девочек {}'.format(males,females))\n",
    "        \n",
    "print(males)\n",
    "print(females)"
   ]
  },
  {
   "cell_type": "code",
   "execution_count": 60,
   "metadata": {},
   "outputs": [
    {
     "name": "stdout",
     "output_type": "stream",
     "text": [
      "There are 644 educated parents in the class\n",
      "644\n"
     ]
    }
   ],
   "source": [
    "x=open(r'C:\\Users\\shpilkvl\\Anaconda3\\CSV\\StudentsPerformance.xls')\n",
    "educated=0\n",
    "for z in x:\n",
    "    info=z.split(',')\n",
    "    diploma=info[2][1:-1]\n",
    "    if diploma==\"high school\" or diploma==\"some college\" or diploma==\"associate's degree\":\n",
    "        educated+=1\n",
    "print('There are {} educated parents in the class'.format(educated))   \n",
    "print(educated)\n",
    "        "
   ]
  },
  {
   "cell_type": "code",
   "execution_count": 58,
   "metadata": {},
   "outputs": [
    {
     "name": "stdout",
     "output_type": "stream",
     "text": [
      "118\n",
      "There are 118 bachelor degree parents in the class\n"
     ]
    }
   ],
   "source": [
    "x=open(r'C:\\Users\\shpilkvl\\Anaconda3\\CSV\\StudentsPerformance.xls')\n",
    "bachelor=0\n",
    "for y in x:\n",
    "    divide=y.split(',')\n",
    "    diploma=divide[2][1:-1]\n",
    "    if diploma==\"bachelor's degree\":\n",
    "        bachelor+=1\n",
    "print(bachelor)\n",
    "print('There are {} bachelor degree parents in the class'.format(bachelor))\n",
    "    \n",
    "\n",
    "       "
   ]
  },
  {
   "cell_type": "code",
   "execution_count": 49,
   "metadata": {},
   "outputs": [
    {
     "name": "stdout",
     "output_type": "stream",
     "text": [
      "1001\n"
     ]
    }
   ],
   "source": [
    "x=open(r'C:\\Users\\shpilkvl\\Anaconda3\\CSV\\StudentsPerformance.xls')\n",
    "lunch=0\n",
    "total=0\n",
    "for y in x:\n",
    "    divide=y.split(',')\n",
    "    total_amount=divide[3][1:-1]\n",
    "    if len(total_amount)>0:\n",
    "        total+=1\n",
    "print(total)"
   ]
  },
  {
   "cell_type": "code",
   "execution_count": 35,
   "metadata": {},
   "outputs": [
    {
     "name": "stdout",
     "output_type": "stream",
     "text": [
      "0.6443556443556444\n",
      "645 students had standard lunch before the exam and 356 students did not\n"
     ]
    }
   ],
   "source": [
    "x=open(r'C:\\Users\\shpilkvl\\Anaconda3\\CSV\\StudentsPerformance.xls')\n",
    "lunch=0\n",
    "total=0\n",
    "for y in x:\n",
    "    divide=y.split(',')#creating a list using the split function\n",
    "    had_lunch=divide[3][1:-1]#slicing the list by the fourth element and cutting the 0th and the last bracket\n",
    "    if had_lunch==\"standard\":\n",
    "        lunch+=1\n",
    "    else:\n",
    "        total+=1\n",
    "print(lunch/(lunch+total))\n",
    "print('{} students had standard lunch before the exam and {} students did not'.format(lunch,total))"
   ]
  },
  {
   "cell_type": "code",
   "execution_count": 31,
   "metadata": {},
   "outputs": [
    {
     "name": "stdout",
     "output_type": "stream",
     "text": [
      "[\"bachelor's degree\", 'some college', \"master's degree\", \"associate's degree\", 'high school', 'some high school']\n",
      "6\n"
     ]
    }
   ],
   "source": [
    "import csv\n",
    "x=open(r'C:\\Users\\shpilkvl\\Anaconda3\\CSV\\StudentsPerformance.xls')\n",
    "unique_values=[]\n",
    "for y in x:\n",
    "    divide=y.split(',')#creating a list using the split function\n",
    "    diplomed=divide[2][1:-1]#slicing the list by the third element and cutting the 0th and the last bracket and creating new variable\n",
    "    if diplomed not in unique_values:\n",
    "        unique_values.append(diplomed)\n",
    "print(unique_values[1:])\n",
    "print(len(unique_values)-1)"
   ]
  },
  {
   "cell_type": "code",
   "execution_count": 61,
   "metadata": {},
   "outputs": [
    {
     "name": "stdout",
     "output_type": "stream",
     "text": [
      "319\n"
     ]
    }
   ],
   "source": [
    "import csv\n",
    "x=open(r'C:\\Users\\shpilkvl\\Anaconda3\\CSV\\StudentsPerformance.xls')\n",
    "groupC=0\n",
    "for y in x:\n",
    "    div=y.split(',')\n",
    "    eth=div[1][1:-1]\n",
    "    if eth=='group C':\n",
    "        groupC+=1\n",
    "    else:\n",
    "        pass\n",
    "print(groupC)\n",
    "    "
   ]
  },
  {
   "cell_type": "code",
   "execution_count": 1,
   "metadata": {},
   "outputs": [
    {
     "name": "stdout",
     "output_type": "stream",
     "text": [
      "5\n"
     ]
    }
   ],
   "source": [
    "import csv\n",
    "x=open(r'C:\\Users\\shpilkvl\\Anaconda3\\CSV\\StudentsPerformance.xls')\n",
    "eth_types=[]\n",
    "for y in x:\n",
    "    divide=y.split(',')\n",
    "    types=divide[1][1:-1]\n",
    "    if types not in eth_types:\n",
    "        eth_types.append(types)\n",
    "print(len(eth_types[1:]))\n",
    "    "
   ]
  },
  {
   "cell_type": "code",
   "execution_count": 5,
   "metadata": {},
   "outputs": [
    {
     "name": "stdout",
     "output_type": "stream",
     "text": [
      "['72', '69', '90', '47', '76', '71', '88', '40', '64', '38', '58', '40', '65', '78', '50', '69', '88', '18', '46', '54', '66', '65', '44', '69', '74', '73', '69', '67', '70', '62', '69', '63', '56', '40', '97', '81', '74', '50', '75', '57', '55', '58', '53', '59', '50', '65', '55', '66', '57', '82', '53', '77', '53', '88', '71', '33', '82', '52', '58', '0', '79', '39', '62', '69', '59', '67', '45', '60', '61', '39', '58', '63', '41', '61', '49', '44', '30', '80', '61', '62', '47', '49', '50', '72', '42', '73', '76', '71', '58', '73', '65', '27', '71', '43', '79', '78', '65', '63', '58', '65', '79', '68', '85', '60', '98', '58', '87', '66', '52', '70', '77', '62', '54', '51', '99', '84', '75', '78', '51', '55', '79', '91', '88', '63', '83', '87', '72', '65', '82', '51', '89', '53', '87', '75', '74', '58', '51', '70', '59', '71', '76', '59', '42', '57', '88', '22', '88', '73', '68', '100', '62', '77', '59', '54', '62', '70', '66', '60', '61', '66', '82', '75', '49', '52', '81', '96', '53', '58', '68', '67', '72', '94', '79', '63', '43', '81', '46', '71', '52', '97', '62', '46', '50', '65', '45', '65', '80', '62', '48', '77', '66', '76', '62', '77', '69', '61', '59', '55', '45', '78', '67', '65', '69', '57', '59', '74', '82', '81', '74', '58', '80', '35', '42', '60', '87', '84', '83', '34', '66', '61', '56', '87', '55', '86', '52', '45', '72', '57', '68', '88', '76', '46', '67', '92', '83', '80', '63', '64', '54', '84', '73', '80', '56', '59', '75', '85', '89', '58', '65', '68', '47', '71', '60', '80', '54', '62', '64', '78', '70', '65', '64', '79', '44', '99', '76', '59', '63', '69', '88', '71', '69', '58', '47', '65', '88', '83', '85', '59', '65', '73', '53', '45', '73', '70', '37', '81', '97', '67', '88', '77', '76', '86', '63', '65', '78', '67', '46', '71', '40', '90', '81', '56', '67', '80', '74', '69', '99', '51', '53', '49', '73', '66', '67', '68', '59', '71', '77', '83', '63', '56', '67', '75', '71', '43', '41', '82', '61', '28', '82', '41', '71', '47', '62', '90', '83', '61', '76', '49', '24', '35', '58', '61', '69', '67', '79', '72', '62', '77', '75', '87', '52', '66', '63', '46', '59', '61', '63', '42', '59', '80', '58', '85', '52', '27', '59', '49', '69', '61', '44', '73', '84', '45', '74', '82', '59', '46', '80', '85', '71', '66', '80', '87', '79', '38', '38', '67', '64', '57', '62', '73', '73', '77', '76', '57', '65', '48', '50', '85', '74', '60', '59', '53', '49', '88', '54', '63', '65', '82', '52', '87', '70', '84', '71', '63', '51', '84', '71', '74', '68', '57', '82', '57', '47', '59', '41', '62', '86', '69', '65', '68', '64', '61', '61', '47', '73', '50', '75', '75', '70', '89', '67', '78', '59', '73', '79', '67', '69', '86', '47', '81', '64', '100', '65', '65', '53', '37', '79', '53', '100', '72', '53', '54', '71', '77', '75', '84', '26', '72', '77', '91', '83', '63', '68', '59', '90', '71', '76', '80', '55', '76', '73', '52', '68', '59', '49', '70', '61', '60', '64', '79', '65', '64', '83', '81', '54', '68', '54', '59', '66', '76', '74', '94', '63', '95', '40', '82', '68', '55', '79', '86', '76', '64', '62', '54', '77', '76', '74', '66', '66', '67', '71', '91', '69', '54', '53', '68', '56', '36', '29', '62', '68', '47', '62', '79', '73', '66', '51', '51', '85', '97', '75', '79', '81', '82', '64', '78', '92', '72', '62', '79', '79', '87', '40', '77', '53', '32', '55', '61', '53', '73', '74', '63', '96', '63', '48', '48', '92', '61', '63', '68', '71', '91', '53', '50', '74', '40', '61', '81', '48', '53', '81', '77', '63', '73', '69', '65', '55', '44', '54', '48', '58', '71', '68', '74', '92', '56', '30', '53', '69', '65', '54', '29', '76', '60', '84', '75', '85', '40', '61', '58', '69', '58', '94', '65', '82', '60', '37', '88', '95', '65', '35', '62', '58', '100', '61', '100', '69', '61', '49', '44', '67', '79', '66', '75', '84', '71', '67', '80', '86', '76', '41', '74', '72', '74', '70', '65', '59', '64', '50', '69', '51', '68', '85', '65', '73', '62', '77', '69', '43', '90', '74', '73', '55', '65', '80', '50', '63', '77', '73', '81', '66', '52', '69', '65', '69', '50', '73', '70', '81', '63', '67', '60', '62', '29', '62', '94', '85', '77', '53', '93', '49', '73', '66', '77', '49', '79', '75', '59', '57', '66', '79', '57', '87', '63', '59', '62', '46', '66', '89', '42', '93', '80', '98', '81', '60', '76', '73', '96', '76', '91', '62', '55', '74', '50', '47', '81', '65', '68', '73', '53', '68', '55', '87', '55', '53', '67', '92', '53', '81', '61', '80', '37', '81', '59', '55', '72', '69', '69', '50', '87', '71', '68', '79', '77', '58', '84', '55', '70', '52', '69', '53', '48', '78', '62', '60', '74', '58', '76', '68', '58', '52', '75', '52', '62', '66', '49', '66', '35', '72', '94', '46', '77', '76', '52', '91', '32', '72', '19', '68', '52', '48', '60', '66', '89', '42', '57', '70', '70', '69', '52', '67', '76', '87', '82', '73', '75', '64', '41', '90', '59', '51', '45', '54', '87', '72', '94', '45', '61', '60', '77', '85', '78', '49', '71', '48', '62', '56', '65', '69', '68', '61', '74', '64', '77', '58', '60', '73', '75', '58', '66', '39', '64', '23', '74', '40', '90', '91', '64', '59', '80', '71', '61', '87', '82', '62', '97', '75', '65', '52', '87', '53', '81', '39', '71', '97', '82', '59', '61', '78', '49', '59', '70', '82', '90', '43', '80', '81', '57', '59', '64', '63', '71', '64', '55', '51', '62', '93', '54', '69', '44', '86', '85', '50', '88', '59', '32', '36', '63', '67', '65', '85', '73', '34', '93', '67', '88', '57', '79', '67', '70', '50', '69', '52', '47', '46', '68', '100', '44', '57', '91', '69', '35', '72', '54', '74', '74', '64', '65', '46', '48', '67', '62', '61', '70', '98', '70', '67', '57', '85', '77', '72', '78', '81', '61', '58', '54', '82', '49', '49', '57', '94', '75', '74', '58', '62', '72', '84', '92', '45', '75', '56', '48', '100', '65', '72', '62', '66', '63', '68', '75', '89', '78', '53', '49', '54', '64', '60', '62', '55', '91', '8', '81', '79', '78', '74', '57', '40', '81', '44', '67', '86', '65', '55', '62', '63', '88', '62', '59', '68', '77']\n"
     ]
    }
   ],
   "source": [
    "import csv\n",
    "y=[]\n",
    "x=open(r'C:\\Users\\shpilkvl\\Anaconda3\\CSV\\StudentsPerformance.xls')\n",
    "for line in x:\n",
    "    info=line.split(',')\n",
    "    if info[0]=='gender':\n",
    "        continue\n",
    "    else:\n",
    "        y.append(info[5][1:-1])\n",
    "print(y[1:])"
   ]
  },
  {
   "cell_type": "code",
   "execution_count": 71,
   "metadata": {},
   "outputs": [
    {
     "name": "stdout",
     "output_type": "stream",
     "text": [
      "69.169\n"
     ]
    }
   ],
   "source": [
    "#Вычислите средний балл абитуриентов на экзамене по чтению (reading score).\n",
    "marks=[]\n",
    "x=open(r'C:\\Users\\shpilkvl\\Anaconda3\\CSV\\StudentsPerformance.xls')\n",
    "for line in x:\n",
    "    info = line.split(',')\n",
    "    if info[0] == '\"gender\"':\n",
    "        continue\n",
    "    else:\n",
    "        y = int(info[6][1:-1])\n",
    "        marks.append(y)\n",
    "median=sum(marks)/len(marks)\n",
    "\n",
    "print(median)"
   ]
  },
  {
   "cell_type": "code",
   "execution_count": 43,
   "metadata": {},
   "outputs": [],
   "source": [
    "#Вычислите средний балл абитуриентов на экзамене по чтению (reading score).\n",
    "\n",
    "import re\n",
    "\n",
    "reading=[]\n",
    "\n",
    "f= open(r'C:\\Users\\shpilkvl\\Anaconda3\\CSV\\StudentsPerformance.xls')\n",
    "\n",
    "for exam_results in f:\n",
    "    info=exam_results.split(',')\n",
    "    if info[0]=='\"gender\"':\n",
    "        continue\n",
    "    else:\n",
    "        reading.append(int(info[-2][1:-1]))\n",
    "        median=sum(reading)/len(reading)\n",
    "        for x in reading:\n",
    "            test=[]\n",
    "            if x<=median:\n",
    "                test.append(x)\n"
   ]
  },
  {
   "cell_type": "code",
   "execution_count": 69,
   "metadata": {},
   "outputs": [
    {
     "name": "stdout",
     "output_type": "stream",
     "text": [
      "487\n"
     ]
    }
   ],
   "source": [
    "#Сколько абитуриентов получили на экзамене по чтению (reading score) оценку ниже среднего?\n",
    "import re\n",
    "exams=[]\n",
    "pattern=re.compile('\\d+')\n",
    "avg=69.169\n",
    "f= open(r'C:\\Users\\shpilkvl\\Anaconda3\\CSV\\StudentsPerformance.xls')\n",
    "for exam_results in f:\n",
    "    info=exam_results.split(',')\n",
    "    if info[0]=='gender':\n",
    "        continue\n",
    "    else:\n",
    "        if info[6][1:-1]=='reading score':\n",
    "            continue\n",
    "        else:\n",
    "            mark=int(info[6][1:-1])\n",
    "            if mark<avg:\n",
    "                exams.append(mark)\n",
    "print(len(exams))"
   ]
  },
  {
   "cell_type": "code",
   "execution_count": 68,
   "metadata": {},
   "outputs": [
    {
     "name": "stdout",
     "output_type": "stream",
     "text": [
      "72.60810810810811\n"
     ]
    }
   ],
   "source": [
    "#Какой средний балл на экзамене по чтению (reading score) получили девочки?\n",
    "import re\n",
    "exams=[]\n",
    "f = open(r'C:\\Users\\shpilkvl\\Anaconda3\\CSV\\StudentsPerformance.xls')\n",
    "for exam_results in f:\n",
    "    info=exam_results.split(',')\n",
    "    if info[0]=='gender':\n",
    "        continue\n",
    "    else:\n",
    "        if info[6][1:-1]=='reading score':\n",
    "            continue\n",
    "        elif info[0][1:-1]=='male':\n",
    "            continue\n",
    "        else:\n",
    "            mark=int(info[6][1:-1])\n",
    "            exams.append(mark)\n",
    "print(sum(exams)/len(exams))"
   ]
  },
  {
   "cell_type": "code",
   "execution_count": 213,
   "metadata": {},
   "outputs": [
    {
     "name": "stdout",
     "output_type": "stream",
     "text": [
      "[93, 92, 92, 90, 100, 98, 100, 92, 93, 93, 91, 100, 100, 94, 90, 95, 93, 91, 94, 95, 95, 96, 100, 95, 95, 100, 93, 97, 100, 91, 91, 90, 91, 90, 90, 92, 92, 94, 94, 97, 92, 100, 92, 96, 99, 90, 91, 93, 99, 90, 98, 100, 90, 90, 99, 99, 94, 92, 95, 92, 93, 93, 96, 91, 95, 91, 100, 91, 100, 91, 90, 96, 100, 100, 100, 94, 91, 95]\n"
     ]
    }
   ],
   "source": [
    "#Сколько абитуриентов получили на экзамене по письму (writing score) оценку выше 90?\n",
    "import re\n",
    "exams=[]\n",
    "good=[]\n",
    "f =open(r'C:\\Users\\shpilkvl\\Anaconda3\\CSV\\StudentsPerformance.xls')\n",
    "for exam_results in f:\n",
    "    info=exam_results.split(',')\n",
    "    if info[0]=='gender':\n",
    "        continue\n",
    "    elif info[7][1:-2] =='writing score':\n",
    "        continue\n",
    "    elif int(info[7][1:-2])<90:\n",
    "        continue\n",
    "    else:\n",
    "        mark=int(info[7][1:-2])\n",
    "        exams.append(mark)\n",
    "print(exams)"
   ]
  },
  {
   "cell_type": "code",
   "execution_count": 272,
   "metadata": {},
   "outputs": [
    {
     "name": "stdout",
     "output_type": "stream",
     "text": [
      "68\n"
     ]
    }
   ],
   "source": [
    "#Сколько абитуриентов получили на экзамене по письму (writing score) оценку выше 90?\n",
    "import re\n",
    "exams=[]\n",
    "good=[]\n",
    "f =open(r'C:\\Users\\shpilkvl\\Anaconda3\\CSV\\StudentsPerformance.xls')\n",
    "for exam_results in f:\n",
    "    info=exam_results.split(',')\n",
    "    if info[0]=='gender':\n",
    "        continue\n",
    "    elif info[7][1:-2] =='writing score':\n",
    "        continue\n",
    "    else:\n",
    "        mark=int(info[7][1:-2])\n",
    "        if mark>90:\n",
    "            exams.append(mark)            \n",
    "print(len(exams))"
   ]
  },
  {
   "cell_type": "code",
   "execution_count": 26,
   "metadata": {},
   "outputs": [
    {
     "name": "stdout",
     "output_type": "stream",
     "text": [
      "68\n",
      "12\n",
      "86.76470588235294\n"
     ]
    }
   ],
   "source": [
    "#Сколько процентов абитуриентов, получивших на экзамене по письму (writing score) оценку более 90, хорошо пообедали перед экзаменом (lunch = standard)?\n",
    "import re\n",
    "exams=[]\n",
    "food=[]\n",
    "f =open(r'C:\\Users\\shpilkvl\\Anaconda3\\CSV\\StudentsPerformance.xls')\n",
    "for exam_results in f:\n",
    "    info=exam_results.split(',')\n",
    "    if info[0]=='gender':\n",
    "        continue\n",
    "    elif info[7][1:-2] =='writing score':\n",
    "        continue\n",
    "    else:\n",
    "        mark=int(info[7][1:-2])\n",
    "        lunch=info[3][1:-1]\n",
    "        if mark>90:\n",
    "            exams.append(mark)\n",
    "            if lunch == 'standard':\n",
    "                food.append(lunch)\n",
    "print(len(exams))\n",
    "print(len(lunch))\n",
    "print(len(food)/len(exams)*100)"
   ]
  },
  {
   "cell_type": "code",
   "execution_count": null,
   "metadata": {},
   "outputs": [],
   "source": []
  }
 ],
 "metadata": {
  "kernelspec": {
   "display_name": "Python 3",
   "language": "python",
   "name": "python3"
  },
  "language_info": {
   "codemirror_mode": {
    "name": "ipython",
    "version": 3
   },
   "file_extension": ".py",
   "mimetype": "text/x-python",
   "name": "python",
   "nbconvert_exporter": "python",
   "pygments_lexer": "ipython3",
   "version": "3.7.6"
  }
 },
 "nbformat": 4,
 "nbformat_minor": 4
}
