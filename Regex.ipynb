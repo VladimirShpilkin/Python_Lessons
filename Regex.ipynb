{
 "cells": [
  {
   "cell_type": "code",
   "execution_count": 27,
   "metadata": {},
   "outputs": [
    {
     "name": "stdout",
     "output_type": "stream",
     "text": [
      "A match\n",
      "None\n"
     ]
    }
   ],
   "source": [
    "#Write a Python program that matches a string that has an 'a' followed by anything, ending in 'b'\n",
    "import re\n",
    "def text_match(text):\n",
    "    pattern = '^a+.b$'\n",
    "    if re.search(pattern,text):\n",
    "        print('A match')\n",
    "    else:\n",
    "        print('No match')\n",
    "print(text_match('alb'))"
   ]
  },
  {
   "cell_type": "code",
   "execution_count": 45,
   "metadata": {},
   "outputs": [
    {
     "name": "stdout",
     "output_type": "stream",
     "text": [
      "A match\n",
      "None\n",
      "No match\n",
      "None\n"
     ]
    }
   ],
   "source": [
    "#Write a Python program that matches a word at the beginning of a string\n",
    "import re\n",
    "def text_match(text):\n",
    "    pattern = '^\\w+'\n",
    "    if re.search(pattern, text):\n",
    "        print('A match')\n",
    "    else:\n",
    "        print('No match')\n",
    "print(text_match('Suck some dick'))\n",
    "print(text_match('  some dick'))"
   ]
  },
  {
   "cell_type": "code",
   "execution_count": 67,
   "metadata": {},
   "outputs": [
    {
     "name": "stdout",
     "output_type": "stream",
     "text": [
      "A match\n",
      "No match\n",
      "A match\n"
     ]
    }
   ],
   "source": [
    "#Write a Python program that matches a word at the end of string, with optional punctuation.\n",
    "import re\n",
    "def text_match(text):\n",
    "    pattern='\\w+\\S*$'\n",
    "    if re.search(pattern, text):\n",
    "        return('A match')\n",
    "    else:\n",
    "        return('No match')\n",
    "print(text_match('Suck some dick!'))\n",
    "print(text_match('Suck some '))\n",
    "print(text_match('Suck some dick!!!!!'))"
   ]
  },
  {
   "cell_type": "code",
   "execution_count": 1,
   "metadata": {},
   "outputs": [
    {
     "name": "stdout",
     "output_type": "stream",
     "text": [
      "A match\n",
      "No match\n"
     ]
    }
   ],
   "source": [
    "#Write a Python program that matches a word containing 'z'.\n",
    "import re\n",
    "def text_match(text):\n",
    "    pattern='^\\w*z.\\w*$'\n",
    "    if re.search(pattern, text):\n",
    "        return('A match')\n",
    "    else:\n",
    "        return('No match')\n",
    "print(text_match('azb'))\n",
    "print(text_match('abc'))"
   ]
  },
  {
   "cell_type": "code",
   "execution_count": 7,
   "metadata": {},
   "outputs": [
    {
     "name": "stdout",
     "output_type": "stream",
     "text": [
      "A match\n",
      "No match\n"
     ]
    }
   ],
   "source": [
    "#Write a Python program where a string will start with a specific number. - Option 1\n",
    "\n",
    "import re\n",
    "def num_match(number):\n",
    "    pattern='^5'\n",
    "    if re.search(pattern, number):\n",
    "        return('A match')\n",
    "    else:\n",
    "        return('No match')\n",
    "print(num_match('567-678'))\n",
    "print(num_match('666-566'))"
   ]
  },
  {
   "cell_type": "code",
   "execution_count": 13,
   "metadata": {},
   "outputs": [
    {
     "name": "stdout",
     "output_type": "stream",
     "text": [
      "A match\n",
      "No match\n"
     ]
    }
   ],
   "source": [
    "#Write a Python program where a string will start with a specific number. - Option 2\n",
    "\n",
    "import re\n",
    "def num_match(str_number):\n",
    "    pattern=re.compile(r'^5')\n",
    "    if re.match(pattern,str_number):\n",
    "        return('A match')\n",
    "    else:\n",
    "        return('No match')\n",
    "print(num_match('567-765'))\n",
    "print(num_match('6780-567'))"
   ]
  },
  {
   "cell_type": "code",
   "execution_count": 123,
   "metadata": {},
   "outputs": [
    {
     "name": "stdout",
     "output_type": "stream",
     "text": [
      "('21:db8::1234::567:8:1', 6)\n"
     ]
    }
   ],
   "source": [
    "#Write a Python program to remove leading zeros from an IP address - Option 1\n",
    "\n",
    "import re\n",
    "ip_num = '02001:db8:0:01234:0:567:8:1'\n",
    "pattern=re.subn('[0]','',ip_num)\n",
    "print(pattern)"
   ]
  },
  {
   "cell_type": "code",
   "execution_count": 111,
   "metadata": {},
   "outputs": [
    {
     "name": "stdout",
     "output_type": "stream",
     "text": [
      "ABC@xxx.com ABC@yyy.com ABC@zzz.com\n"
     ]
    }
   ],
   "source": [
    "import re\n",
    "\n",
    "s = 'aaa@xxx.com bbb@yyy.com ccc@zzz.com'\n",
    "\n",
    "print(re.sub('[a-z]*@', 'ABC@', s))"
   ]
  },
  {
   "cell_type": "code",
   "execution_count": 124,
   "metadata": {},
   "outputs": [
    {
     "name": "stdout",
     "output_type": "stream",
     "text": [
      "21:db8::1234::567:8:1\n"
     ]
    }
   ],
   "source": [
    "\n",
    "#Write a Python program to remove leading zeros from an IP address - Option 2\n",
    "\n",
    "import re\n",
    "ip_num = '02001:db8:0:01234:0:567:8:1'\n",
    "print(re.sub('[0]','',ip_num))"
   ]
  },
  {
   "cell_type": "code",
   "execution_count": 132,
   "metadata": {},
   "outputs": [
    {
     "name": "stdout",
     "output_type": "stream",
     "text": [
      "No match\n",
      "A match\n"
     ]
    }
   ],
   "source": [
    "#Write a Python program to check for a number at the end of a string. - Option 1\n",
    "\n",
    "import re\n",
    "def num_match(num):\n",
    "    pattern= re.compile(r'5$')\n",
    "    if re.search(pattern,num):\n",
    "        return('A match')\n",
    "    else:\n",
    "        return('No match')\n",
    "print(num_match('675-677'))\n",
    "print(num_match('678-875'))"
   ]
  },
  {
   "cell_type": "code",
   "execution_count": 141,
   "metadata": {},
   "outputs": [
    {
     "name": "stdout",
     "output_type": "stream",
     "text": [
      "A match\n",
      "A match\n"
     ]
    }
   ],
   "source": [
    "#Write a Python program to check for a number at the end of a string. - Option 1\n",
    "\n",
    "import re\n",
    "def num_match(num):\n",
    "    pattern=re.compile('.*[0-9]$')\n",
    "    if re.search(pattern,num):\n",
    "        return('A match')\n",
    "    else:\n",
    "        return('No match')\n",
    "print(num_match('675'))\n",
    "print(num_match('6777'))"
   ]
  },
  {
   "cell_type": "code",
   "execution_count": 148,
   "metadata": {},
   "outputs": [
    {
     "name": "stdout",
     "output_type": "stream",
     "text": [
      "['1', '2', '3', '1', '3', '1', '2']\n"
     ]
    }
   ],
   "source": [
    "#Write a Python program to search the numbers (0-9) of length between 1 to 3 in a given string.\n",
    "\n",
    "import re\n",
    "\n",
    "number='123456789678134512'\n",
    "x=re.findall('[123]',number)\n",
    "print(x)"
   ]
  },
  {
   "cell_type": "code",
   "execution_count": 150,
   "metadata": {},
   "outputs": [
    {
     "name": "stdout",
     "output_type": "stream",
     "text": [
      "The first white-space character is located in position: 3\n"
     ]
    }
   ],
   "source": [
    "import re\n",
    "\n",
    "txt = \"The rain in Spain\"\n",
    "x = re.search(\"\\s\", txt)\n",
    "\n",
    "print(\"The first white-space character is located in position:\", x.start())"
   ]
  },
  {
   "cell_type": "code",
   "execution_count": 165,
   "metadata": {},
   "outputs": [
    {
     "name": "stdout",
     "output_type": "stream",
     "text": [
      "['1', '12', '13', '345']\n"
     ]
    }
   ],
   "source": [
    "#Write a Python program to search the numbers (0-9) of length between 1 to 3 in a given string. - Option 1\n",
    "\n",
    "import re\n",
    "\n",
    "string=\"Exercises number 1, 12, 13, and 345 are important\"\n",
    "pattern='\\d+'\n",
    "x=re.findall(pattern,string)\n",
    "print(x)"
   ]
  },
  {
   "cell_type": "code",
   "execution_count": 175,
   "metadata": {},
   "outputs": [
    {
     "name": "stdout",
     "output_type": "stream",
     "text": [
      "['1', '12', '13', '345', '567']\n"
     ]
    }
   ],
   "source": [
    "#Write a Python program to search the numbers (0-9) of length between 1 to 3 in a given string. - Option 2\n",
    "\n",
    "import re\n",
    "\n",
    "def match(quo):\n",
    "    pattern='\\d+'\n",
    "    return(re.findall(pattern,quo))\n",
    "print(match(\"Exercises number 1, 12, 13, and 345 and 567 are important\"))\n"
   ]
  },
  {
   "cell_type": "code",
   "execution_count": 190,
   "metadata": {},
   "outputs": [
    {
     "name": "stdout",
     "output_type": "stream",
     "text": [
      "['1', '12', '13', '345']\n"
     ]
    }
   ],
   "source": [
    "#Write a Python program to search the numbers (0-9) of length between 1 to 3 in a given string. - Option 3\n",
    "import re\n",
    "\n",
    "def match(quo):\n",
    "    pattern='([0-9]{1,3})'\n",
    "    return(re.findall(pattern,quo))\n",
    "print(match(\"Exercises number 1, 12, 13, and 345 are important\"))"
   ]
  },
  {
   "cell_type": "code",
   "execution_count": 214,
   "metadata": {},
   "outputs": [
    {
     "name": "stdout",
     "output_type": "stream",
     "text": [
      "1\n",
      "12\n",
      "13\n",
      "345\n",
      "900\n",
      "0\n"
     ]
    }
   ],
   "source": [
    "#Write a Python program to search the numbers (0-9) of length between 1 to 3 in a given string. - Option 4\n",
    "import re\n",
    "result= re.finditer('([0-9]{1,3})',\"Exercises number 1, 12, 13, 345 and 9000 are important\")\n",
    "for x in result:\n",
    "        print(x.group(0))"
   ]
  },
  {
   "cell_type": "code",
   "execution_count": 215,
   "metadata": {},
   "outputs": [
    {
     "name": "stdout",
     "output_type": "stream",
     "text": [
      "Number of length 1 to 3\n",
      "1\n",
      "12\n",
      "13\n",
      "345\n",
      "900\n",
      "00\n"
     ]
    }
   ],
   "source": [
    "import re\n",
    "results = re.finditer(r\"([0-9]{1,3})\", \"Exercises number 1, 12, 13,345 and 90000 are important\")\n",
    "print(\"Number of length 1 to 3\")\n",
    "for n in results:\n",
    "     print(n.group(0))"
   ]
  },
  {
   "cell_type": "code",
   "execution_count": 265,
   "metadata": {},
   "outputs": [
    {
     "name": "stdout",
     "output_type": "stream",
     "text": [
      "['The', 'quick', 'brown', 'fox', 'jumps', 'over', 'the', 'lazy', 'dog', '']\n",
      "fox\n",
      "dog\n"
     ]
    }
   ],
   "source": [
    "#Write a Python program to search some literals strings in a string.- Option 1\n",
    "#Searched words : 'fox', 'dog', 'horse'\n",
    "import re\n",
    "string='The quick brown fox jumps over the lazy dog.'\n",
    "pattern='\\W'\n",
    "result=re.split(pattern,string)\n",
    "print(result)\n",
    "for x in result:\n",
    "    if x== 'fox' or x== 'dog' or x=='horse':\n",
    "        print(x)"
   ]
  },
  {
   "cell_type": "code",
   "execution_count": 280,
   "metadata": {},
   "outputs": [
    {
     "name": "stdout",
     "output_type": "stream",
     "text": [
      "Looking for \"fox\" in \"The quick brown fox jumps over the lazy dog.\"\n",
      "A match\n",
      "Looking for \"dog\" in \"The quick brown fox jumps over the lazy dog.\"\n",
      "A match\n",
      "Looking for \"horse\" in \"The quick brown fox jumps over the lazy dog.\"\n",
      "No match\n"
     ]
    }
   ],
   "source": [
    "#Write a Python program to search some literals strings in a string.- Option 1\n",
    "#Searched words : 'fox', 'dog', 'horse'\n",
    "\n",
    "import re\n",
    "pattern=['fox','dog','horse']\n",
    "\n",
    "string='The quick brown fox jumps over the lazy dog.'\n",
    "\n",
    "for x in pattern:\n",
    "    print('Looking for \"%s\" in \"%s\"' % (x,string),)\n",
    "    if re.search(x, string):\n",
    "        print('A match')\n",
    "    else:\n",
    "        print('No match')\n",
    "    "
   ]
  }
 ],
 "metadata": {
  "kernelspec": {
   "display_name": "Python 3",
   "language": "python",
   "name": "python3"
  },
  "language_info": {
   "codemirror_mode": {
    "name": "ipython",
    "version": 3
   },
   "file_extension": ".py",
   "mimetype": "text/x-python",
   "name": "python",
   "nbconvert_exporter": "python",
   "pygments_lexer": "ipython3",
   "version": "3.7.6"
  }
 },
 "nbformat": 4,
 "nbformat_minor": 4
}
