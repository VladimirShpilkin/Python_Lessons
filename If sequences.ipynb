{
 "cells": [
  {
   "cell_type": "code",
   "execution_count": 1,
   "metadata": {},
   "outputs": [
    {
     "name": "stdout",
     "output_type": "stream",
     "text": [
      "Квадратный корень из 169 - целое число.\n"
     ]
    }
   ],
   "source": [
    "number = 169\n",
    "корень = number **(1/2)\n",
    "if корень % 1 == 0:\n",
    "    print(\"Квадратный корень из \" + str(number) + \" - целое число.\")\n",
    "else:\n",
    "     print(\"Квадратный корень из \" + str(number) + \" - не целое число.\")"
   ]
  },
  {
   "cell_type": "code",
   "execution_count": 5,
   "metadata": {},
   "outputs": [
    {
     "name": "stdout",
     "output_type": "stream",
     "text": [
      "Квадратный корень из 170 - не целое число.\n"
     ]
    }
   ],
   "source": [
    "number = 170\n",
    "корень = number **(1/2)\n",
    "корень_2 = int(корень)\n",
    "if корень - корень_2 == 0:\n",
    "    print(\"Квадратный корень из {} - целое число.\".format(number))\n",
    "else:\n",
    "     print(\"Квадратный корень из {} - не целое число.\".format(number))"
   ]
  },
  {
   "cell_type": "code",
   "execution_count": 3,
   "metadata": {
    "scrolled": false
   },
   "outputs": [
    {
     "name": "stdout",
     "output_type": "stream",
     "text": [
      "0.0\n"
     ]
    }
   ],
   "source": [
    "number = 1\n",
    "корень = number **(1/2)\n",
    "print(корень % 1)"
   ]
  },
  {
   "cell_type": "code",
   "execution_count": 4,
   "metadata": {},
   "outputs": [
    {
     "name": "stdout",
     "output_type": "stream",
     "text": [
      "13\n",
      "0.038404810405298306\n"
     ]
    }
   ],
   "source": [
    "number = 170\n",
    "корень = number **(1/2)\n",
    "корень_2 = int(корень)\n",
    "print(корень_2)\n",
    "print(корень - корень_2)"
   ]
  },
  {
   "cell_type": "code",
   "execution_count": 5,
   "metadata": {},
   "outputs": [
    {
     "name": "stdout",
     "output_type": "stream",
     "text": [
      "196608.0\n"
     ]
    }
   ],
   "source": [
    "print(8**5*36**(1/2))"
   ]
  },
  {
   "cell_type": "code",
   "execution_count": 6,
   "metadata": {},
   "outputs": [
    {
     "name": "stdout",
     "output_type": "stream",
     "text": [
      "1926.246\n"
     ]
    }
   ],
   "source": [
    "print(18 +6.996+(45*(13/2)**2))"
   ]
  },
  {
   "cell_type": "code",
   "execution_count": 7,
   "metadata": {},
   "outputs": [
    {
     "name": "stdout",
     "output_type": "stream",
     "text": [
      "-76858.0\n"
     ]
    }
   ],
   "source": [
    "print(1267 - 20*((5**3)/2)**2)"
   ]
  },
  {
   "cell_type": "code",
   "execution_count": 8,
   "metadata": {},
   "outputs": [
    {
     "name": "stdout",
     "output_type": "stream",
     "text": [
      "15012\n"
     ]
    },
    {
     "data": {
      "text/plain": [
       "12.0"
      ]
     },
     "execution_count": 8,
     "metadata": {},
     "output_type": "execute_result"
    }
   ],
   "source": [
    "float(input(150))"
   ]
  },
  {
   "cell_type": "code",
   "execution_count": 9,
   "metadata": {},
   "outputs": [
    {
     "name": "stdout",
     "output_type": "stream",
     "text": [
      "Вы ввели число, которое при умножении на 3 даёт 69\n"
     ]
    }
   ],
   "source": [
    "a = 23\n",
    "b = a * 3\n",
    "print(\"Вы ввели число, которое при умножении на 3 даёт\",b)"
   ]
  },
  {
   "cell_type": "code",
   "execution_count": 10,
   "metadata": {},
   "outputs": [
    {
     "name": "stdout",
     "output_type": "stream",
     "text": [
      "пятница\n"
     ]
    }
   ],
   "source": [
    "number = 5\n",
    "if number == 1:\n",
    "    print(\"понедельник\")\n",
    "elif number == 2:\n",
    "    print(\"вторник\")\n",
    "elif number == 3:\n",
    "    print(\"среда\")\n",
    "elif number == 4:\n",
    "    print(\"четверг\")\n",
    "elif number == 5:\n",
    "    print(\"пятница\")\n",
    "elif number == 6:\n",
    "    print(\"суббота\")\n",
    "else:\n",
    "    print(\"воскресенье\")"
   ]
  },
  {
   "cell_type": "code",
   "execution_count": 11,
   "metadata": {},
   "outputs": [
    {
     "data": {
      "text/plain": [
       "True"
      ]
     },
     "execution_count": 11,
     "metadata": {},
     "output_type": "execute_result"
    }
   ],
   "source": [
    "\"5a\"<\"5b\" and 123/2 > 30 or True"
   ]
  },
  {
   "cell_type": "code",
   "execution_count": 12,
   "metadata": {},
   "outputs": [
    {
     "data": {
      "text/plain": [
       "False"
      ]
     },
     "execution_count": 12,
     "metadata": {},
     "output_type": "execute_result"
    }
   ],
   "source": [
    "False and True or 12<5**2 and \"Python\" > \"Ruby\""
   ]
  },
  {
   "cell_type": "code",
   "execution_count": 13,
   "metadata": {},
   "outputs": [
    {
     "data": {
      "text/plain": [
       "False"
      ]
     },
     "execution_count": 13,
     "metadata": {},
     "output_type": "execute_result"
    }
   ],
   "source": [
    "\"Python\" > \"Ruby\""
   ]
  },
  {
   "cell_type": "code",
   "execution_count": 14,
   "metadata": {},
   "outputs": [
    {
     "data": {
      "text/plain": [
       "False"
      ]
     },
     "execution_count": 14,
     "metadata": {},
     "output_type": "execute_result"
    }
   ],
   "source": [
    "False and True"
   ]
  },
  {
   "cell_type": "code",
   "execution_count": 15,
   "metadata": {},
   "outputs": [
    {
     "data": {
      "text/plain": [
       "True"
      ]
     },
     "execution_count": 15,
     "metadata": {},
     "output_type": "execute_result"
    }
   ],
   "source": [
    "\"239\" < \"30\""
   ]
  },
  {
   "cell_type": "code",
   "execution_count": 16,
   "metadata": {},
   "outputs": [
    {
     "name": "stdout",
     "output_type": "stream",
     "text": [
      "Аня не фанат таких цветов\n"
     ]
    }
   ],
   "source": [
    "flower = 'роза' \n",
    "color = 'фиолетовый'\n",
    "if \"роза\" in flower and \"синий\" in color and \"белый\":\n",
    "    print(\"Ане понравятся эти цветы\")\n",
    "else:\n",
    "    print(\"Аня не фанат таких цветов\")"
   ]
  },
  {
   "cell_type": "code",
   "execution_count": 17,
   "metadata": {},
   "outputs": [
    {
     "name": "stdout",
     "output_type": "stream",
     "text": [
      "Попробуем поискать ещё...\n"
     ]
    }
   ],
   "source": [
    "height = str(180)\n",
    "weight = 92\n",
    "color = 'синий'\n",
    "if \"170\" in height and weight < 80 and color == \"красный\":\n",
    "    print( \"Ваша половинка нашлась!\")\n",
    "else:\n",
    "    print(\"Попробуем поискать ещё...\")"
   ]
  },
  {
   "cell_type": "code",
   "execution_count": 18,
   "metadata": {},
   "outputs": [
    {
     "name": "stdout",
     "output_type": "stream",
     "text": [
      "Python\n"
     ]
    }
   ],
   "source": [
    "fav_word = 'Аппликация'\n",
    "if fav_word == \"рептилия\"  and \"питон\" and  \"змея\":\n",
    "    print(\"gay\")\n",
    "elif fav_word == \"плюс\" and \"плюсы\":\n",
    "    print(\"C++\")\n",
    "else:\n",
    "    print(\"Python\")"
   ]
  },
  {
   "cell_type": "code",
   "execution_count": 19,
   "metadata": {},
   "outputs": [
    {
     "name": "stdout",
     "output_type": "stream",
     "text": [
      "Преподаватель свободен.\n"
     ]
    }
   ],
   "source": [
    "hour = 19\n",
    "minute = 59\n",
    "if hour==10 and minute <=30 or 12 <= hour <= 13 and  0 <= minute <=40 or 15 <= hour <18 or hour>= 19 and minute > 30 or 19 == hour < 20 and minute > 30:\n",
    "    print(\"Преподаватель свободен.\")\n",
    "elif hour == 12 and minute == 0 and hour == 15 and minute == 0 and hour == 18 and minute == 0:\n",
    "    print(\"Преподаватель занят.\")\n",
    "else:\n",
    "    print(\"Преподаватель занят.\")"
   ]
  },
  {
   "cell_type": "code",
   "execution_count": null,
   "metadata": {},
   "outputs": [],
   "source": []
  },
  {
   "cell_type": "code",
   "execution_count": 20,
   "metadata": {},
   "outputs": [
    {
     "ename": "SyntaxError",
     "evalue": "invalid syntax (<ipython-input-20-c1cc5c3c49cf>, line 5)",
     "output_type": "error",
     "traceback": [
      "\u001b[1;36m  File \u001b[1;32m\"<ipython-input-20-c1cc5c3c49cf>\"\u001b[1;36m, line \u001b[1;32m5\u001b[0m\n\u001b[1;33m    elif 12 <= hour <= 13 and 0 < minute <=40\u001b[0m\n\u001b[1;37m                                             ^\u001b[0m\n\u001b[1;31mSyntaxError\u001b[0m\u001b[1;31m:\u001b[0m invalid syntax\n"
     ]
    }
   ],
   "source": [
    "hour = 13\n",
    "minute = 1\n",
    "if hour==10 and minute <=30:\n",
    "    print(\"Преподаватель свободен.\")\n",
    "elif 12 <= hour <= 13 and 0 < minute <=40\n",
    "    "
   ]
  },
  {
   "cell_type": "code",
   "execution_count": null,
   "metadata": {},
   "outputs": [],
   "source": [
    "#Y = int(input())\n",
    "#Z = int(input())\n",
    "Y = 170000\n",
    "Z = 1000000\n",
    "year = 0\n",
    "mult = 1.1\n",
    "while Y < Z:\n",
    "    Y = Y*mult\n",
    "    year += 1\n",
    "else:\n",
    "    print(year)"
   ]
  },
  {
   "cell_type": "code",
   "execution_count": null,
   "metadata": {},
   "outputs": [],
   "source": [
    "weight = 77\n",
    "max_weight = 400\n",
    "total_weight = 0\n",
    "overweight = max_weight-total_weight\n",
    "while total_weight<max_weight:\n",
    "    total_weight += weight\n",
    "else:\n",
    "    print(\"Перевес\", total_weight-max_weight, \"кг\")"
   ]
  },
  {
   "cell_type": "code",
   "execution_count": 21,
   "metadata": {},
   "outputs": [
    {
     "name": "stdout",
     "output_type": "stream",
     "text": [
      "Перевес 62 кг\n"
     ]
    }
   ],
   "source": [
    "weight = 77\n",
    "max_weight = 400\n",
    "total_weight = 0\n",
    "overweight = max_weight-total_weight\n",
    "while total_weight<max_weight:\n",
    "    total_weight += weight\n",
    "else:\n",
    "    print(\"Перевес\", total_weight-max_weight, \"кг\")"
   ]
  },
  {
   "cell_type": "code",
   "execution_count": null,
   "metadata": {},
   "outputs": [],
   "source": []
  },
  {
   "cell_type": "code",
   "execution_count": null,
   "metadata": {},
   "outputs": [],
   "source": []
  }
 ],
 "metadata": {
  "kernelspec": {
   "display_name": "Python 3",
   "language": "python",
   "name": "python3"
  },
  "language_info": {
   "codemirror_mode": {
    "name": "ipython",
    "version": 3
   },
   "file_extension": ".py",
   "mimetype": "text/x-python",
   "name": "python",
   "nbconvert_exporter": "python",
   "pygments_lexer": "ipython3",
   "version": "3.7.6"
  }
 },
 "nbformat": 4,
 "nbformat_minor": 2
}
