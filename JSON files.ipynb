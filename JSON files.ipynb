{
 "cells": [
  {
   "cell_type": "code",
   "execution_count": 3,
   "metadata": {},
   "outputs": [
    {
     "name": "stdout",
     "output_type": "stream",
     "text": [
      "[{'id': 47946124, 'client_id': 62526, 'user_id': 110777, 'category': 'page', 'action': 'enter', 'options': {'name': 'landing'}}, {'id': 47947076, 'client_id': 61944, 'user_id': 108565, 'category': 'page', 'action': 'enter', 'options': {'name': 'landing'}}, {'id': 47962056, 'client_id': 27115, 'user_id': 49440, 'category': 'page', 'action': 'enter', 'options': {'name': 'page'}}, {'id': 47962120, 'client_id': 27115, 'user_id': 49440, 'category': 'datepicker', 'action': 'apply', 'options': {'endDate': '2019-03-31 23:59:59', 'startDate': '2019-03-25 00:00:00'}}, {'id': 47962218, 'client_id': 27115, 'user_id': 49440, 'category': 'table', 'action': 'sort', 'options': {'dir': 'ASC', 'name': 'deal_date'}}, {'id': 47962238, 'client_id': 27115, 'user_id': 49440, 'category': 'table', 'action': 'sort', 'options': {'dir': 'DESC', 'name': 'deal_date'}}, {'id': 47962532, 'client_id': 27115, 'user_id': 49440, 'category': 'table', 'action': 'sort', 'options': {'dir': 'ASC', 'name': 'deal_date'}}, {'id': 47962534, 'client_id': 27115, 'user_id': 49440, 'category': 'table', 'action': 'sort', 'options': {'dir': 'DESC', 'name': 'deal_date'}}, {'id': 47962696, 'client_id': 27115, 'user_id': 49440, 'category': 'datepicker', 'action': 'apply', 'options': {'endDate': '2019-03-10 23:59:59', 'startDate': '2019-03-04 00:00:00'}}, {'id': 47962748, 'client_id': 27115, 'user_id': 49440, 'category': 'datepicker', 'action': 'apply', 'options': {'endDate': '2019-02-24 23:59:59', 'startDate': '2019-02-18 00:00:00'}}, {'id': 47962830, 'client_id': 27115, 'user_id': 49440, 'category': 'datepicker', 'action': 'apply', 'options': {'endDate': '2019-03-31 23:59:59', 'startDate': '2019-03-25 00:00:00'}}, {'id': 47962860, 'client_id': 27115, 'user_id': 49440, 'category': 'datepicker', 'action': 'apply', 'options': {'endDate': '2019-03-31 23:59:59', 'startDate': '2019-03-28 00:00:00'}}, {'id': 47962952, 'client_id': 27115, 'user_id': 49440, 'category': 'datepicker', 'action': 'apply', 'options': {'endDate': '2019-03-31 23:59:59', 'startDate': '2019-03-29 00:00:00'}}, {'id': 47964366, 'client_id': 62017, 'user_id': 108835, 'category': 'page', 'action': 'enter', 'options': {'name': 'landing'}}, {'id': 47989384, 'client_id': 63120, 'user_id': 113069, 'category': 'page', 'action': 'enter', 'options': {'name': 'landing'}}, {'id': 48010418, 'client_id': 59883, 'user_id': 108493, 'category': 'page', 'action': 'enter', 'options': {'name': 'landing'}}, {'id': 48012170, 'client_id': 2913, 'user_id': 37412, 'category': 'page', 'action': 'enter', 'options': {'name': 'landing'}}, {'id': 48014430, 'client_id': 62940, 'user_id': 112351, 'category': 'page', 'action': 'enter', 'options': {'name': 'landing'}}, {'id': 48022684, 'client_id': 63149, 'user_id': 113143, 'category': 'page', 'action': 'enter', 'options': {'name': 'landing'}}, {'id': 48026886, 'client_id': 45391, 'user_id': 76047, 'category': 'page', 'action': 'enter', 'options': {'name': 'landing'}}, {'id': 48034878, 'client_id': 18923, 'user_id': 36488, 'category': 'page', 'action': 'enter', 'options': {'name': 'landing'}}, {'id': 48042052, 'client_id': 63019, 'user_id': 113169, 'category': 'page', 'action': 'enter', 'options': {'name': 'landing'}}, {'id': 48043326, 'client_id': 18923, 'user_id': 36488, 'category': 'page', 'action': 'enter', 'options': {'name': 'landing'}}, {'id': 48043640, 'client_id': 18923, 'user_id': 36488, 'category': 'page', 'action': 'enter', 'options': {'name': 'landing'}}, {'id': 48051248, 'client_id': 15759, 'user_id': 92681, 'category': 'page', 'action': 'enter', 'options': {'name': 'landing'}}, {'id': 48061250, 'client_id': 62007, 'user_id': 92681, 'category': 'page', 'action': 'enter', 'options': {'name': 'page'}}, {'id': 48066902, 'client_id': 62941, 'user_id': 112357, 'category': 'page', 'action': 'enter', 'options': {'name': 'landing'}}, {'id': 48081876, 'client_id': 51009, 'user_id': 87778, 'category': 'page', 'action': 'enter', 'options': {'name': 'landing'}}, {'id': 48106514, 'client_id': 62236, 'user_id': 109579, 'category': 'page', 'action': 'enter', 'options': {'name': 'landing'}}, {'id': 48110768, 'client_id': 44682, 'user_id': 74909, 'category': 'page', 'action': 'enter', 'options': {'name': 'landing'}}, {'id': 48114652, 'client_id': 39709, 'user_id': 67955, 'category': 'page', 'action': 'enter', 'options': {'name': 'landing'}}, {'id': 48118216, 'client_id': 60459, 'user_id': 32532, 'category': 'page', 'action': 'enter', 'options': {'name': 'page'}}, {'id': 48118370, 'client_id': 62144, 'user_id': 109283, 'category': 'page', 'action': 'enter', 'options': {'name': 'landing'}}, {'id': 48118516, 'client_id': 60459, 'user_id': 32532, 'category': 'report', 'action': 'change_mode', 'options': {'mode': 'deals'}}, {'id': 48118564, 'client_id': 60459, 'user_id': 32532, 'category': 'report', 'action': 'change_mode', 'options': {'mode': 'summary'}}, {'id': 48118590, 'client_id': 60459, 'user_id': 32532, 'category': 'report', 'action': 'change_mode', 'options': {'mode': 'deals'}}, {'id': 48118920, 'client_id': 60459, 'user_id': 32532, 'category': 'report', 'action': 'change_mode', 'options': {'mode': 'summary'}}, {'id': 48120374, 'client_id': 60459, 'user_id': 32532, 'category': 'page', 'action': 'enter', 'options': {'name': 'page'}}, {'id': 48120386, 'client_id': 60459, 'user_id': 32532, 'category': 'report', 'action': 'change_mode', 'options': {'mode': 'deals'}}, {'id': 48120602, 'client_id': 52492, 'user_id': 91178, 'category': 'page', 'action': 'enter', 'options': {'name': 'page'}}, {'id': 48120604, 'client_id': 52492, 'user_id': 105477, 'category': 'page', 'action': 'enter', 'options': {'name': 'page'}}, {'id': 48120770, 'client_id': 60459, 'user_id': 32532, 'category': 'page', 'action': 'enter', 'options': {'name': 'page'}}, {'id': 48120876, 'client_id': 60459, 'user_id': 32532, 'category': 'table', 'action': 'sort', 'options': {'dir': 'ASC', 'name': 'visitor_id'}}, {'id': 48120896, 'client_id': 60459, 'user_id': 32532, 'category': 'table', 'action': 'sort', 'options': {'dir': 'DESC', 'name': 'visitor_id'}}, {'id': 48121006, 'client_id': 60459, 'user_id': 32532, 'category': 'table', 'action': 'sort', 'options': {'dir': 'ASC', 'name': 'visitor_id'}}, {'id': 48121008, 'client_id': 60459, 'user_id': 32532, 'category': 'table', 'action': 'sort', 'options': {'dir': 'DESC', 'name': 'visitor_id'}}, {'id': 48125372, 'client_id': 52492, 'user_id': 91178, 'category': 'page', 'action': 'enter', 'options': {'name': 'page'}}, {'id': 48130434, 'client_id': 18923, 'user_id': 36488, 'category': 'page', 'action': 'enter', 'options': {'name': 'landing'}}, {'id': 48135712, 'client_id': 25301, 'user_id': 54229, 'category': 'page', 'action': 'enter', 'options': {'name': 'landing'}}, {'id': 48136376, 'client_id': 18923, 'user_id': 36488, 'category': 'page', 'action': 'enter', 'options': {'name': 'landing'}}, {'id': 48136890, 'client_id': 33645, 'user_id': 61378, 'category': 'page', 'action': 'enter', 'options': {'name': 'landing'}}, {'id': 48145332, 'client_id': 62089, 'user_id': 109095, 'category': 'page', 'action': 'enter', 'options': {'name': 'landing'}}, {'id': 48155244, 'client_id': 26705, 'user_id': 48880, 'category': 'page', 'action': 'enter', 'options': {'name': 'landing'}}, {'id': 48160942, 'client_id': 1103, 'user_id': 109501, 'category': 'page', 'action': 'enter', 'options': {'name': 'page'}}, {'id': 48166190, 'client_id': 62439, 'user_id': 110397, 'category': 'page', 'action': 'enter', 'options': {'name': 'landing'}}, {'id': 48167428, 'client_id': 44196, 'user_id': 74136, 'category': 'page', 'action': 'enter', 'options': {'name': 'landing'}}, {'id': 48171114, 'client_id': 62602, 'user_id': 111069, 'category': 'page', 'action': 'enter', 'options': {'name': 'page'}}, {'id': 48173426, 'client_id': 62602, 'user_id': 111069, 'category': 'page', 'action': 'enter', 'options': {'name': 'page'}}, {'id': 48173444, 'client_id': 62602, 'user_id': 111069, 'category': 'report', 'action': 'link_click', 'options': {'url': 'javascript:void(0);', 'name': 'deal_count', 'value': '1'}}, {'id': 48173446, 'client_id': 62602, 'user_id': 111069, 'category': 'page', 'action': 'enter', 'options': {'name': 'page'}}, {'id': 48173640, 'client_id': 62602, 'user_id': 111069, 'category': 'page', 'action': 'enter', 'options': {'name': 'page'}}, {'id': 48173686, 'client_id': 62602, 'user_id': 111069, 'category': 'page', 'action': 'enter', 'options': {'name': 'page'}}, {'id': 48173698, 'client_id': 62602, 'user_id': 111069, 'category': 'page', 'action': 'enter', 'options': {'name': 'page'}}, {'id': 48174302, 'client_id': 62602, 'user_id': 111069, 'category': 'page', 'action': 'enter', 'options': {'name': 'page'}}, {'id': 48174312, 'client_id': 62602, 'user_id': 111069, 'category': 'report', 'action': 'link_click', 'options': {'url': 'javascript:void(0);', 'name': 'deal_count', 'value': '1'}}, {'id': 48174314, 'client_id': 62602, 'user_id': 111069, 'category': 'page', 'action': 'enter', 'options': {'name': 'page'}}, {'id': 48174338, 'client_id': 62602, 'user_id': 111069, 'category': 'page', 'action': 'enter', 'options': {'name': 'page'}}, {'id': 48179988, 'client_id': 50149, 'user_id': 86073, 'category': 'page', 'action': 'enter', 'options': {'name': 'landing'}}, {'id': 57301281, 'client_id': 57009, 'user_id': 107244, 'category': 'page', 'action': 'enter', 'options': {'name': 'landing'}}, {'id': 57326589, 'client_id': 57207, 'user_id': 107968, 'category': 'page', 'action': 'enter', 'options': {'name': 'landing'}}, {'id': 57328781, 'client_id': 32792, 'user_id': 57997, 'category': 'page', 'action': 'enter', 'options': {'name': 'landing'}}, {'id': 57335607, 'client_id': 27323, 'user_id': 92681, 'category': 'page', 'action': 'enter', 'options': {'name': 'landing'}}, {'id': 57355249, 'client_id': 24500, 'user_id': 45371, 'category': 'page', 'action': 'enter', 'options': {'name': 'landing'}}, {'id': 57357969, 'client_id': 24500, 'user_id': 45371, 'category': 'page', 'action': 'enter', 'options': {'name': 'page'}}, {'id': 57364085, 'client_id': 58330, 'user_id': 122756, 'category': 'page', 'action': 'enter', 'options': {'name': 'landing'}}, {'id': 57368897, 'client_id': 61245, 'user_id': 122796, 'category': 'page', 'action': 'enter', 'options': {'name': 'landing'}}, {'id': 57380235, 'client_id': 19799, 'user_id': 108493, 'category': 'page', 'action': 'enter', 'options': {'name': 'landing'}}, {'id': 57397813, 'client_id': 56544, 'user_id': 105404, 'category': 'page', 'action': 'enter', 'options': {'name': 'page'}}, {'id': 57397881, 'client_id': 56544, 'user_id': 105404, 'category': 'datepicker', 'action': 'apply', 'options': {'endDate': '2019-03-31 23:59:59', 'startDate': '2019-03-31 00:00:00'}}, {'id': 57397923, 'client_id': 56544, 'user_id': 105404, 'category': 'datepicker', 'action': 'apply', 'options': {'endDate': '2019-03-30 23:59:59', 'startDate': '2019-03-30 00:00:00'}}, {'id': 57397987, 'client_id': 56544, 'user_id': 105404, 'category': 'datepicker', 'action': 'apply', 'options': {'endDate': '2019-03-29 23:59:59', 'startDate': '2019-03-29 00:00:00'}}, {'id': 57398079, 'client_id': 56544, 'user_id': 105404, 'category': 'datepicker', 'action': 'apply', 'options': {'endDate': '2019-03-28 23:59:59', 'startDate': '2019-03-28 00:00:00'}}, {'id': 57398119, 'client_id': 56544, 'user_id': 105404, 'category': 'datepicker', 'action': 'apply', 'options': {'endDate': '2019-03-27 23:59:59', 'startDate': '2019-03-27 00:00:00'}}, {'id': 57398165, 'client_id': 56544, 'user_id': 105404, 'category': 'datepicker', 'action': 'apply', 'options': {'endDate': '2019-03-26 23:59:59', 'startDate': '2019-03-26 00:00:00'}}, {'id': 57398203, 'client_id': 56544, 'user_id': 105404, 'category': 'datepicker', 'action': 'apply', 'options': {'endDate': '2019-03-25 23:59:59', 'startDate': '2019-03-25 00:00:00'}}, {'id': 57414209, 'client_id': 23207, 'user_id': 43300, 'category': 'page', 'action': 'enter', 'options': {'name': 'landing'}}, {'id': 57414633, 'client_id': 23207, 'user_id': 43300, 'category': 'page', 'action': 'enter', 'options': {'name': 'landing'}}, {'id': 57414663, 'client_id': 23207, 'user_id': 85282, 'category': 'page', 'action': 'enter', 'options': {'name': 'landing'}}, {'id': 57414851, 'client_id': 23207, 'user_id': 43300, 'category': 'page', 'action': 'enter', 'options': {'name': 'landing'}}, {'id': 57420219, 'client_id': 48128, 'user_id': 121686, 'category': 'page', 'action': 'enter', 'options': {'name': 'landing'}}, {'id': 57424709, 'client_id': 58113, 'user_id': 120952, 'category': 'page', 'action': 'enter', 'options': {'name': 'page'}}, {'id': 57424757, 'client_id': 58113, 'user_id': 120952, 'category': 'report', 'action': 'change_mode', 'options': {'mode': 'deals'}}, {'id': 57425399, 'client_id': 58113, 'user_id': 120952, 'category': 'table', 'action': 'sort', 'options': {'dir': 'ASC', 'name': 'ac'}}, {'id': 57425421, 'client_id': 58113, 'user_id': 120952, 'category': 'table', 'action': 'sort', 'options': {'dir': 'DESC', 'name': 'ac'}}, {'id': 57426007, 'client_id': 58113, 'user_id': 120952, 'category': 'datepicker', 'action': 'apply', 'options': {'endDate': '2019-03-24 23:59:59', 'startDate': '2019-03-18 00:00:00'}}, {'id': 57426303, 'client_id': 58113, 'user_id': 120952, 'category': 'datepicker', 'action': 'apply', 'options': {'endDate': '2019-03-17 23:59:59', 'startDate': '2019-03-11 00:00:00'}}, {'id': 57431787, 'client_id': 58113, 'user_id': 120952, 'category': 'page', 'action': 'enter', 'options': {'name': 'page'}}, {'id': 57444593, 'client_id': 57613, 'user_id': 110958, 'category': 'page', 'action': 'enter', 'options': {'name': 'landing'}}, {'id': 57453741, 'client_id': 61244, 'user_id': 120170, 'category': 'page', 'action': 'enter', 'options': {'name': 'landing'}}, {'id': 57467371, 'client_id': 53666, 'user_id': 122224, 'category': 'page', 'action': 'enter', 'options': {'name': 'landing'}}, {'id': 57473917, 'client_id': 53018, 'user_id': 92402, 'category': 'page', 'action': 'enter', 'options': {'name': 'landing'}}, {'id': 57475785, 'client_id': 53666, 'user_id': 122224, 'category': 'page', 'action': 'enter', 'options': {'name': 'landing'}}, {'id': 57492477, 'client_id': 41737, 'user_id': 122874, 'category': 'page', 'action': 'enter', 'options': {'name': 'landing'}}, {'id': 57493427, 'client_id': 61078, 'user_id': 119662, 'category': 'page', 'action': 'enter', 'options': {'name': 'landing'}}, {'id': 57515935, 'client_id': 20820, 'user_id': 116898, 'category': 'page', 'action': 'enter', 'options': {'name': 'landing'}}, {'id': 57517657, 'client_id': 41737, 'user_id': 122874, 'category': 'page', 'action': 'enter', 'options': {'name': 'landing'}}, {'id': 57540495, 'client_id': 49700, 'user_id': 84946, 'category': 'page', 'action': 'enter', 'options': {'name': 'landing'}}]\n"
     ]
    }
   ],
   "source": [
    "import json\n",
    "with open('D:\\Anakoda\\data_1.json','rb') as infile:\n",
    "    data_1=json.load(infile)\n",
    "    data_list=data_1['events_data']\n",
    "    print(data_list)\n",
    "  \n",
    "    "
   ]
  },
  {
   "cell_type": "code",
   "execution_count": 9,
   "metadata": {},
   "outputs": [
    {
     "name": "stdout",
     "output_type": "stream",
     "text": [
      "[62526, 61944, 27115, 27115, 27115, 27115, 27115, 27115, 27115, 27115, 27115, 27115, 27115, 62017, 63120, 59883, 2913, 62940, 63149, 45391, 18923, 63019, 18923, 18923, 15759, 62007, 62941, 51009, 62236, 44682, 39709, 60459, 62144, 60459, 60459, 60459, 60459, 60459, 60459, 52492, 52492, 60459, 60459, 60459, 60459, 60459, 52492, 18923, 25301, 18923, 33645, 62089, 26705, 1103, 62439, 44196, 62602, 62602, 62602, 62602, 62602, 62602, 62602, 62602, 62602, 62602, 62602, 50149, 57009, 57207, 32792, 27323, 24500, 24500, 58330, 61245, 19799, 56544, 56544, 56544, 56544, 56544, 56544, 56544, 56544, 23207, 23207, 23207, 23207, 48128, 58113, 58113, 58113, 58113, 58113, 58113, 58113, 57613, 61244, 53666, 53018, 53666, 41737, 61078, 20820, 41737, 49700]\n"
     ]
    }
   ],
   "source": [
    "client=[]\n",
    "for item in data_list:\n",
    "    client_id=item['client_id']\n",
    "    client.append(client_id)\n",
    "print(client)"
   ]
  },
  {
   "cell_type": "code",
   "execution_count": 6,
   "metadata": {},
   "outputs": [
    {
     "name": "stdout",
     "output_type": "stream",
     "text": [
      "1\n"
     ]
    }
   ],
   "source": [
    "    import collections\n",
    "    c=collections.Counter()\n",
    "    for units in client:\n",
    "        c[units]+=1\n",
    "    print(len(c))"
   ]
  },
  {
   "cell_type": "code",
   "execution_count": 8,
   "metadata": {},
   "outputs": [
    {
     "name": "stdout",
     "output_type": "stream",
     "text": [
      "0\n",
      "0\n"
     ]
    }
   ],
   "source": [
    "    import collections\n",
    "    c=collections.Counter()\n",
    "    for units in client:\n",
    "        c[units]+=1\n",
    "    print(c[60459])\n",
    "    print(c[62602])"
   ]
  },
  {
   "cell_type": "code",
   "execution_count": 124,
   "metadata": {},
   "outputs": [
    {
     "name": "stdout",
     "output_type": "stream",
     "text": [
      "9\n"
     ]
    }
   ],
   "source": [
    "actions_page = []\n",
    "for x in data_list:\n",
    "    client_id = x['client_id']\n",
    "    category = x['category']\n",
    "    if category == 'page':\n",
    "        actions_page.append(client_id)\n",
    "    c = collections.Counter()\n",
    "    for units in actions_page:\n",
    "        c[units]+=1\n",
    "print(c[62602])\n",
    "    "
   ]
  },
  {
   "cell_type": "code",
   "execution_count": 128,
   "metadata": {},
   "outputs": [
    {
     "name": "stdout",
     "output_type": "stream",
     "text": [
      "62526\n",
      "page\n",
      "61944\n",
      "page\n",
      "27115\n",
      "page\n",
      "27115\n",
      "datepicker\n",
      "27115\n",
      "table\n",
      "27115\n",
      "table\n",
      "27115\n",
      "table\n",
      "27115\n",
      "table\n",
      "27115\n",
      "datepicker\n",
      "27115\n",
      "datepicker\n",
      "27115\n",
      "datepicker\n",
      "27115\n",
      "datepicker\n",
      "27115\n",
      "datepicker\n",
      "62017\n",
      "page\n",
      "63120\n",
      "page\n",
      "59883\n",
      "page\n",
      "2913\n",
      "page\n",
      "62940\n",
      "page\n",
      "63149\n",
      "page\n",
      "45391\n",
      "page\n",
      "18923\n",
      "page\n",
      "63019\n",
      "page\n",
      "18923\n",
      "page\n",
      "18923\n",
      "page\n",
      "15759\n",
      "page\n",
      "62007\n",
      "page\n",
      "62941\n",
      "page\n",
      "51009\n",
      "page\n",
      "62236\n",
      "page\n",
      "44682\n",
      "page\n",
      "39709\n",
      "page\n",
      "60459\n",
      "page\n",
      "62144\n",
      "page\n",
      "60459\n",
      "report\n",
      "60459\n",
      "report\n",
      "60459\n",
      "report\n",
      "60459\n",
      "report\n",
      "60459\n",
      "page\n",
      "60459\n",
      "report\n",
      "52492\n",
      "page\n",
      "52492\n",
      "page\n",
      "60459\n",
      "page\n",
      "60459\n",
      "table\n",
      "60459\n",
      "table\n",
      "60459\n",
      "table\n",
      "60459\n",
      "table\n",
      "52492\n",
      "page\n",
      "18923\n",
      "page\n",
      "25301\n",
      "page\n",
      "18923\n",
      "page\n",
      "33645\n",
      "page\n",
      "62089\n",
      "page\n",
      "26705\n",
      "page\n",
      "1103\n",
      "page\n",
      "62439\n",
      "page\n",
      "44196\n",
      "page\n",
      "62602\n",
      "page\n",
      "62602\n",
      "page\n",
      "62602\n",
      "report\n",
      "62602\n",
      "page\n",
      "62602\n",
      "page\n",
      "62602\n",
      "page\n",
      "62602\n",
      "page\n",
      "62602\n",
      "page\n",
      "62602\n",
      "report\n",
      "62602\n",
      "page\n",
      "62602\n",
      "page\n",
      "50149\n",
      "page\n",
      "57009\n",
      "page\n",
      "57207\n",
      "page\n",
      "32792\n",
      "page\n",
      "27323\n",
      "page\n",
      "24500\n",
      "page\n",
      "24500\n",
      "page\n",
      "58330\n",
      "page\n",
      "61245\n",
      "page\n",
      "19799\n",
      "page\n",
      "56544\n",
      "page\n",
      "56544\n",
      "datepicker\n",
      "56544\n",
      "datepicker\n",
      "56544\n",
      "datepicker\n",
      "56544\n",
      "datepicker\n",
      "56544\n",
      "datepicker\n",
      "56544\n",
      "datepicker\n",
      "56544\n",
      "datepicker\n",
      "23207\n",
      "page\n",
      "23207\n",
      "page\n",
      "23207\n",
      "page\n",
      "23207\n",
      "page\n",
      "48128\n",
      "page\n",
      "58113\n",
      "page\n",
      "58113\n",
      "report\n",
      "58113\n",
      "table\n",
      "58113\n",
      "table\n",
      "58113\n",
      "datepicker\n",
      "58113\n",
      "datepicker\n",
      "58113\n",
      "page\n",
      "57613\n",
      "page\n",
      "61244\n",
      "page\n",
      "53666\n",
      "page\n",
      "53018\n",
      "page\n",
      "53666\n",
      "page\n",
      "41737\n",
      "page\n",
      "61078\n",
      "page\n",
      "20820\n",
      "page\n",
      "41737\n",
      "page\n",
      "49700\n",
      "page\n"
     ]
    }
   ],
   "source": [
    "actions_page = []\n",
    "for x in data_list:\n",
    "    client_id = x['client_id']\n",
    "    category = x['category']\n",
    "    print(client_id)\n",
    "    print(category)"
   ]
  },
  {
   "cell_type": "code",
   "execution_count": 31,
   "metadata": {},
   "outputs": [
    {
     "name": "stdout",
     "output_type": "stream",
     "text": [
      "[60459, 60459, 60459, 60459, 60459, 62602, 62602, 58113]\n",
      "Counter({60459: 5, 62602: 2, 58113: 1})\n",
      "[58113, 60459, 62602]\n"
     ]
    }
   ],
   "source": [
    "actions_items = []\n",
    "for x in data_list:\n",
    "    client_id = x['client_id']\n",
    "    category = x['category']\n",
    "    if category == 'report':\n",
    "        actions_items.append(client_id)\n",
    "print(actions_items)\n",
    "c = collections.Counter()\n",
    "for y in actions_items:\n",
    "        c[y]+=1\n",
    "print(c)\n",
    "print(sorted(c))\n",
    "        \n",
    "  "
   ]
  },
  {
   "cell_type": "code",
   "execution_count": 12,
   "metadata": {},
   "outputs": [
    {
     "name": "stdout",
     "output_type": "stream",
     "text": [
      "[{'userId': 1, 'firstName': 'Krish', 'lastName': 'Lee', 'phoneNumber': '123456', 'emailAddress': 'krish.lee@learningcontainer.com'}, {'userId': 2, 'firstName': 'racks', 'lastName': 'jacson', 'phoneNumber': '123456', 'emailAddress': 'racks.jacson@learningcontainer.com'}, {'userId': 3, 'firstName': 'denial', 'lastName': 'roast', 'phoneNumber': '33333333', 'emailAddress': 'denial.roast@learningcontainer.com'}, {'userId': 4, 'firstName': 'devid', 'lastName': 'neo', 'phoneNumber': '222222222', 'emailAddress': 'devid.neo@learningcontainer.com'}, {'userId': 5, 'firstName': 'jone', 'lastName': 'mac', 'phoneNumber': '111111111', 'emailAddress': 'jone.mac@learningcontainer.com'}]\n"
     ]
    }
   ],
   "source": [
    "import json\n",
    "with open('D:\\Python\\JSON\\Sample-JSON-file-with-multiple-records-download.json', 'rb') as infile:\n",
    "    x = json.load(infile)\n",
    "    x_y= x['users']\n",
    "    print(x_y)"
   ]
  },
  {
   "cell_type": "code",
   "execution_count": 6,
   "metadata": {},
   "outputs": [
    {
     "name": "stdout",
     "output_type": "stream",
     "text": [
      "1\n",
      "2\n",
      "3\n",
      "4\n",
      "5\n"
     ]
    }
   ],
   "source": [
    "for x in x_y:\n",
    "    user_id = x['userId']\n",
    "    print(user_id)"
   ]
  },
  {
   "cell_type": "code",
   "execution_count": 9,
   "metadata": {},
   "outputs": [
    {
     "name": "stdout",
     "output_type": "stream",
     "text": [
      "Krish\n",
      "racks\n",
      "denial\n",
      "devid\n",
      "jone\n"
     ]
    }
   ],
   "source": [
    "for x in x_y:\n",
    "    first=x['firstName']\n",
    "    print(first)"
   ]
  },
  {
   "cell_type": "code",
   "execution_count": 10,
   "metadata": {},
   "outputs": [
    {
     "name": "stdout",
     "output_type": "stream",
     "text": [
      "123456\n",
      "123456\n",
      "33333333\n",
      "222222222\n",
      "111111111\n"
     ]
    }
   ],
   "source": [
    "for x in x_y:\n",
    "    phone=x['phoneNumber']\n",
    "    print(phone)"
   ]
  },
  {
   "cell_type": "code",
   "execution_count": null,
   "metadata": {},
   "outputs": [],
   "source": []
  }
 ],
 "metadata": {
  "kernelspec": {
   "display_name": "Python 3",
   "language": "python",
   "name": "python3"
  },
  "language_info": {
   "codemirror_mode": {
    "name": "ipython",
    "version": 3
   },
   "file_extension": ".py",
   "mimetype": "text/x-python",
   "name": "python",
   "nbconvert_exporter": "python",
   "pygments_lexer": "ipython3",
   "version": "3.7.6"
  }
 },
 "nbformat": 4,
 "nbformat_minor": 2
}
